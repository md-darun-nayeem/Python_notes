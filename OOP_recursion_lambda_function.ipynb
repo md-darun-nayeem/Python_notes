{
  "nbformat": 4,
  "nbformat_minor": 0,
  "metadata": {
    "colab": {
      "provenance": [],
      "authorship_tag": "ABX9TyNXATidwS0BZ4Ke76rK6jmf",
      "include_colab_link": true
    },
    "kernelspec": {
      "name": "python3",
      "display_name": "Python 3"
    },
    "language_info": {
      "name": "python"
    }
  },
  "cells": [
    {
      "cell_type": "markdown",
      "metadata": {
        "id": "view-in-github",
        "colab_type": "text"
      },
      "source": [
        "<a href=\"https://colab.research.google.com/github/md-darun-nayeem/Python_notes/blob/main/OOP_recursion_lambda_function.ipynb\" target=\"_parent\"><img src=\"https://colab.research.google.com/assets/colab-badge.svg\" alt=\"Open In Colab\"/></a>"
      ]
    },
    {
      "cell_type": "code",
      "source": [
        "# pass by value\n",
        "\n",
        "class Customer:\n",
        "    def __init__(self,name,gender):\n",
        "        self.name = name\n",
        "        self.gender = gender\n",
        "\n",
        "def greet(customer):\n",
        "    if customer.gender == 'male':\n",
        "        print('Hello' , customer.name ,'sir')\n",
        "\n",
        "    else:\n",
        "        print(\"Hello\", customer.name , 'mam')\n",
        "\n",
        "cust = Customer(\"nayeem\",\"male\")\n",
        "greet(cust)\n",
        "\n"
      ],
      "metadata": {
        "colab": {
          "base_uri": "https://localhost:8080/"
        },
        "id": "qM_wV1gX_Xv2",
        "outputId": "7525d608-d2b3-47f7-b792-c17fda730fcc"
      },
      "execution_count": 1,
      "outputs": [
        {
          "output_type": "stream",
          "name": "stdout",
          "text": [
            "Hello nayeem sir\n"
          ]
        }
      ]
    },
    {
      "cell_type": "code",
      "execution_count": null,
      "metadata": {
        "colab": {
          "base_uri": "https://localhost:8080/"
        },
        "id": "XhP9nL-gKXKf",
        "outputId": "df8fa0ed-7cf7-483d-9497-ee38c23e0656"
      },
      "outputs": [
        {
          "output_type": "stream",
          "name": "stdout",
          "text": [
            "18\n"
          ]
        }
      ],
      "source": [
        "def mul(a,b):\n",
        "  if b == 1:\n",
        "    return a\n",
        "  else:\n",
        "    return a + mul(a,b-1)\n",
        "print(mul(3,6))"
      ]
    },
    {
      "cell_type": "code",
      "source": [
        "# Palindrome\n",
        "\n",
        "def palindrome(text):\n",
        "  if len(text) <= 1:\n",
        "    print('Palindrome')\n",
        "  else:\n",
        "    if text[0] == text[-1]:\n",
        "      palindrome(text[1:-1])\n",
        "    else:\n",
        "      print('Not a palindrome')\n",
        "\n",
        "palindrome('madam')\n",
        "palindrome('dad')\n",
        "palindrome('python')"
      ],
      "metadata": {
        "colab": {
          "base_uri": "https://localhost:8080/"
        },
        "id": "hHUCpoEuKtvw",
        "outputId": "4a08f1b1-3b8b-429c-d283-bc6253cc6435"
      },
      "execution_count": null,
      "outputs": [
        {
          "output_type": "stream",
          "name": "stdout",
          "text": [
            "Palindrome\n",
            "Palindrome\n",
            "Not a palindrome\n"
          ]
        }
      ]
    },
    {
      "cell_type": "code",
      "source": [
        "# fibonacci series\n",
        "\n",
        "def fib(m):\n",
        "  if m==0 or m ==1:\n",
        "    return 1\n",
        "  else:\n",
        "    return fib(m-1) + fib(m-2)\n",
        "\n",
        "print(fib(5))"
      ],
      "metadata": {
        "colab": {
          "base_uri": "https://localhost:8080/"
        },
        "id": "crA7uXUbNGpE",
        "outputId": "a43fbf60-6e20-4a14-e138-2992a23830e4"
      },
      "execution_count": null,
      "outputs": [
        {
          "output_type": "stream",
          "name": "stdout",
          "text": [
            "8\n"
          ]
        }
      ]
    },
    {
      "cell_type": "markdown",
      "source": [
        " Heigher order functions:\n",
        " - lambda -->\n",
        " - Map  --> works with full list\n",
        " - Filter --> works with particular elements in the list\n",
        " - Reduce"
      ],
      "metadata": {
        "id": "hHp9SJstWkhw"
      }
    },
    {
      "cell_type": "code",
      "source": [
        "# lambda function\n",
        "\n",
        "x = lambda x: x**2\n",
        "x(9)"
      ],
      "metadata": {
        "colab": {
          "base_uri": "https://localhost:8080/"
        },
        "id": "LALWDx0nPoYR",
        "outputId": "2ec6c521-0d53-4e5f-be1a-0f648f69d377"
      },
      "execution_count": null,
      "outputs": [
        {
          "output_type": "execute_result",
          "data": {
            "text/plain": [
              "81"
            ]
          },
          "metadata": {},
          "execution_count": 5
        }
      ]
    },
    {
      "cell_type": "code",
      "source": [
        "a = lambda x,y: x+y\n",
        "a(3,4)"
      ],
      "metadata": {
        "colab": {
          "base_uri": "https://localhost:8080/"
        },
        "id": "qahHJ7OWRSFg",
        "outputId": "108f0e3e-54ed-4aa1-c951-a7843d862617"
      },
      "execution_count": null,
      "outputs": [
        {
          "output_type": "execute_result",
          "data": {
            "text/plain": [
              "7"
            ]
          },
          "metadata": {},
          "execution_count": 6
        }
      ]
    },
    {
      "cell_type": "code",
      "source": [
        "b = lambda x: x[0] =='a'\n",
        "b('dad')\n",
        "#b('apple')"
      ],
      "metadata": {
        "colab": {
          "base_uri": "https://localhost:8080/"
        },
        "id": "2SxAAsXNRVUG",
        "outputId": "cb39913b-0ba3-4eb5-cc3f-fb5d6b35ce16"
      },
      "execution_count": null,
      "outputs": [
        {
          "output_type": "execute_result",
          "data": {
            "text/plain": [
              "False"
            ]
          },
          "metadata": {},
          "execution_count": 8
        }
      ]
    },
    {
      "cell_type": "code",
      "source": [
        "b = lambda x: 'Even' if x%2 == 0 else 'Odd'\n",
        "b(3)"
      ],
      "metadata": {
        "colab": {
          "base_uri": "https://localhost:8080/",
          "height": 35
        },
        "id": "3EVVODx0Rh89",
        "outputId": "50ec9dd5-a963-44f2-8621-8df17045469c"
      },
      "execution_count": null,
      "outputs": [
        {
          "output_type": "execute_result",
          "data": {
            "text/plain": [
              "'Odd'"
            ],
            "application/vnd.google.colaboratory.intrinsic+json": {
              "type": "string"
            }
          },
          "metadata": {},
          "execution_count": 9
        }
      ]
    },
    {
      "cell_type": "code",
      "source": [
        "\n",
        "\n",
        "def return_sum(func,L):\n",
        "  result = 0\n",
        "\n",
        "  for i in L:\n",
        "\n",
        "    if func(i):\n",
        "      result = result + i\n",
        "\n",
        "    return result\n",
        "\n",
        "L =[11,14,21,23,56,78,45,29,28]\n",
        "\n",
        "x = lambda x: x%2 == 0\n",
        "y = lambda x: x%2!=0\n",
        "z = lambda x: x%3 == 0\n",
        "\n",
        "print(return_sum(x,L))\n",
        "print(return_sum(y,L))\n",
        "print(return_sum(z,L))"
      ],
      "metadata": {
        "colab": {
          "base_uri": "https://localhost:8080/"
        },
        "id": "QmX-CBWtSSw-",
        "outputId": "674750e9-139a-4c69-a650-b782dd7ababb"
      },
      "execution_count": null,
      "outputs": [
        {
          "output_type": "stream",
          "name": "stdout",
          "text": [
            "0\n",
            "11\n",
            "0\n"
          ]
        }
      ]
    },
    {
      "cell_type": "code",
      "source": [
        "# Map\n",
        "# Double the list values\n",
        "L = [1,4,5,6]\n",
        "\n",
        "map(lambda x: x*2,L)\n"
      ],
      "metadata": {
        "colab": {
          "base_uri": "https://localhost:8080/"
        },
        "id": "M1x8iJrVSfhy",
        "outputId": "6a2e81f4-0420-4c7a-9788-68efec8a304e"
      },
      "execution_count": null,
      "outputs": [
        {
          "output_type": "execute_result",
          "data": {
            "text/plain": [
              "<map at 0x79ee4d575ab0>"
            ]
          },
          "metadata": {},
          "execution_count": 13
        }
      ]
    },
    {
      "cell_type": "code",
      "source": [
        "list(map(lambda x: x*2,L))"
      ],
      "metadata": {
        "colab": {
          "base_uri": "https://localhost:8080/"
        },
        "id": "sjoaEra8XH2X",
        "outputId": "756d15f1-bcb1-49da-ce1e-d811cafa69c0"
      },
      "execution_count": null,
      "outputs": [
        {
          "output_type": "execute_result",
          "data": {
            "text/plain": [
              "[2, 8, 10, 12]"
            ]
          },
          "metadata": {},
          "execution_count": 14
        }
      ]
    },
    {
      "cell_type": "code",
      "source": [
        "list(map(lambda x: x%2 == 0,L))"
      ],
      "metadata": {
        "colab": {
          "base_uri": "https://localhost:8080/"
        },
        "id": "gjqM14cWXMsM",
        "outputId": "bb9c883c-9a41-42d7-c7dc-eb804ed7bd4b"
      },
      "execution_count": null,
      "outputs": [
        {
          "output_type": "execute_result",
          "data": {
            "text/plain": [
              "[False, True, False, True]"
            ]
          },
          "metadata": {},
          "execution_count": 15
        }
      ]
    },
    {
      "cell_type": "code",
      "source": [
        "# Lambda functions\n",
        "\n",
        "L = [1,2,3,4,5,6]\n",
        "\n",
        "list(filter(lambda x: x>4,L))"
      ],
      "metadata": {
        "colab": {
          "base_uri": "https://localhost:8080/"
        },
        "id": "92Qeva7yXTYB",
        "outputId": "23e64590-beb1-4b1f-be52-3a2869f95d8d"
      },
      "execution_count": null,
      "outputs": [
        {
          "output_type": "execute_result",
          "data": {
            "text/plain": [
              "[5, 6]"
            ]
          },
          "metadata": {},
          "execution_count": 16
        }
      ]
    },
    {
      "cell_type": "code",
      "source": [
        "fruits = ['apple','guava','banana', 'mango']\n",
        "\n",
        "list(filter(lambda fruits: 'e' in fruits,fruits))"
      ],
      "metadata": {
        "colab": {
          "base_uri": "https://localhost:8080/"
        },
        "id": "R8t9mDwZXTzL",
        "outputId": "2deb7f18-6ded-456a-b77d-cd19403cd71a"
      },
      "execution_count": null,
      "outputs": [
        {
          "output_type": "execute_result",
          "data": {
            "text/plain": [
              "['apple']"
            ]
          },
          "metadata": {},
          "execution_count": 18
        }
      ]
    },
    {
      "cell_type": "code",
      "source": [
        "# Reduce\n",
        "\n",
        "import functools\n",
        "\n",
        "L = [1,2,3,4,5,6]\n",
        "\n",
        "functools.reduce(lambda x,y: x+y,L)"
      ],
      "metadata": {
        "colab": {
          "base_uri": "https://localhost:8080/"
        },
        "id": "sG1MRmrWYgZD",
        "outputId": "bce17ab2-c4c1-401d-d039-83816703d5ef"
      },
      "execution_count": null,
      "outputs": [
        {
          "output_type": "execute_result",
          "data": {
            "text/plain": [
              "21"
            ]
          },
          "metadata": {},
          "execution_count": 20
        }
      ]
    },
    {
      "cell_type": "code",
      "source": [
        "L1 = [23,43,12,56]\n",
        "\n",
        "functools.reduce(lambda x,y: x if x>y else y,L1)"
      ],
      "metadata": {
        "colab": {
          "base_uri": "https://localhost:8080/"
        },
        "id": "KLEeCNG5YguV",
        "outputId": "a4dd3a27-c5db-41ec-e796-c5068ccce60c"
      },
      "execution_count": null,
      "outputs": [
        {
          "output_type": "execute_result",
          "data": {
            "text/plain": [
              "56"
            ]
          },
          "metadata": {},
          "execution_count": 21
        }
      ]
    },
    {
      "cell_type": "code",
      "source": [],
      "metadata": {
        "id": "n63vVLcQXkZs"
      },
      "execution_count": null,
      "outputs": []
    }
  ]
}