{
  "nbformat": 4,
  "nbformat_minor": 0,
  "metadata": {
    "colab": {
      "provenance": [],
      "authorship_tag": "ABX9TyPUWOGfi/cP9/oOp2PhUk0W",
      "include_colab_link": true
    },
    "kernelspec": {
      "name": "python3",
      "display_name": "Python 3"
    },
    "language_info": {
      "name": "python"
    }
  },
  "cells": [
    {
      "cell_type": "markdown",
      "metadata": {
        "id": "view-in-github",
        "colab_type": "text"
      },
      "source": [
        "<a href=\"https://colab.research.google.com/github/md-darun-nayeem/Python_notes/blob/main/05_memory_deep_python.ipynb\" target=\"_parent\"><img src=\"https://colab.research.google.com/assets/colab-badge.svg\" alt=\"Open In Colab\"/></a>"
      ]
    },
    {
      "cell_type": "code",
      "execution_count": null,
      "metadata": {
        "colab": {
          "base_uri": "https://localhost:8080/"
        },
        "id": "m6o_fys0yYdP",
        "outputId": "6673dd60-59b4-4065-8e4a-89cf41f1ae2b"
      },
      "outputs": [
        {
          "output_type": "execute_result",
          "data": {
            "text/plain": [
              "133978292586096"
            ]
          },
          "metadata": {},
          "execution_count": 3
        }
      ],
      "source": [
        "a = 45\n",
        "x = id(a)\n",
        "x"
      ]
    },
    {
      "cell_type": "code",
      "source": [
        "hex(x)"
      ],
      "metadata": {
        "colab": {
          "base_uri": "https://localhost:8080/",
          "height": 35
        },
        "id": "AzRVyeoqyiV7",
        "outputId": "e913daef-1c36-4b18-f4bc-c5c4b6724fc4"
      },
      "execution_count": null,
      "outputs": [
        {
          "output_type": "execute_result",
          "data": {
            "text/plain": [
              "'0x79da40898670'"
            ],
            "application/vnd.google.colaboratory.intrinsic+json": {
              "type": "string"
            }
          },
          "metadata": {},
          "execution_count": 4
        }
      ]
    },
    {
      "cell_type": "code",
      "source": [
        "# Reference count of a variable in python\n",
        "\n",
        "import sys\n",
        "a = 'Nayeem'\n",
        "b = a\n",
        "c = b\n",
        "sys.getrefcount(a)"
      ],
      "metadata": {
        "id": "H44Q0b8bynrH",
        "colab": {
          "base_uri": "https://localhost:8080/"
        },
        "outputId": "73dcf516-ef89-4220-9ca5-52c7cb618039"
      },
      "execution_count": null,
      "outputs": [
        {
          "output_type": "execute_result",
          "data": {
            "text/plain": [
              "5"
            ]
          },
          "metadata": {},
          "execution_count": 2
        }
      ]
    },
    {
      "cell_type": "markdown",
      "source": [
        "Garbeg collection:\n",
        "\n",
        "if we create a variable and delete that then the memory will not be vanished. It will take the memory location.\n",
        "\n",
        "ex: a = 10\n",
        "del a"
      ],
      "metadata": {
        "id": "LsYEA61QjKIf"
      }
    },
    {
      "cell_type": "code",
      "source": [
        "# Weired thing in python\n",
        "\n",
        "x = 10\n",
        "y = x\n",
        "z = y\n",
        "sys.getrefcount(x)"
      ],
      "metadata": {
        "colab": {
          "base_uri": "https://localhost:8080/"
        },
        "id": "jnIvzil2iGix",
        "outputId": "b5c1c2cf-a2e3-4522-e8ea-7bbbd3a37f91"
      },
      "execution_count": null,
      "outputs": [
        {
          "output_type": "execute_result",
          "data": {
            "text/plain": [
              "1059"
            ]
          },
          "metadata": {},
          "execution_count": 7
        }
      ]
    },
    {
      "cell_type": "code",
      "source": [
        "# Some weired thing in python\n",
        "a = 4\n",
        "b = 4\n",
        "ab = id(a)\n",
        "cd = id(b)\n",
        "\n",
        "print(ab,cd,sep='\\n')\n",
        "\n",
        "# -5 to 256 stays the same location. Out of this range it changes location\n",
        "# Now the difference\n",
        "\n",
        "a = 306\n",
        "b = 306\n",
        "abc = id(a)\n",
        "cde = id(b)\n",
        "\n",
        "print(abc,cde,sep='\\n')"
      ],
      "metadata": {
        "colab": {
          "base_uri": "https://localhost:8080/"
        },
        "id": "KGqw7_6tiXqO",
        "outputId": "3eb5cfd8-da8b-432f-c35c-5edf868c2144"
      },
      "execution_count": null,
      "outputs": [
        {
          "output_type": "stream",
          "name": "stdout",
          "text": [
            "139898038452560\n",
            "139898038452560\n",
            "139896767892976\n",
            "139896767894512\n"
          ]
        }
      ]
    },
    {
      "cell_type": "code",
      "source": [],
      "metadata": {
        "id": "0u87hCjcjiiJ"
      },
      "execution_count": null,
      "outputs": []
    }
  ]
}