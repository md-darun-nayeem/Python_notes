{
  "nbformat": 4,
  "nbformat_minor": 0,
  "metadata": {
    "colab": {
      "provenance": [],
      "toc_visible": true,
      "authorship_tag": "ABX9TyOvc1WEP6P8v2GznyG1Y5RN",
      "include_colab_link": true
    },
    "kernelspec": {
      "name": "python3",
      "display_name": "Python 3"
    },
    "language_info": {
      "name": "python"
    }
  },
  "cells": [
    {
      "cell_type": "markdown",
      "metadata": {
        "id": "view-in-github",
        "colab_type": "text"
      },
      "source": [
        "<a href=\"https://colab.research.google.com/github/md-darun-nayeem/Python_notes/blob/main/OOP_class_method_objects_basic.ipynb\" target=\"_parent\"><img src=\"https://colab.research.google.com/assets/colab-badge.svg\" alt=\"Open In Colab\"/></a>"
      ]
    },
    {
      "cell_type": "code",
      "execution_count": null,
      "metadata": {
        "colab": {
          "base_uri": "https://localhost:8080/"
        },
        "id": "azYB0ihGGbHK",
        "outputId": "a795c62d-be39-4ecd-a2db-f6e7975ceb6f"
      },
      "outputs": [
        {
          "output_type": "stream",
          "name": "stdout",
          "text": [
            " \n",
            "                        Hello! How would you like to proceed:\n",
            "                        1. Enter 1 to create your pin\n",
            "                        2. Enter 2 to deposit\n",
            "                        3. Enter 3 to withdraw\n",
            "                        4. Enter 4 to check balance\n",
            "                        5. Enter 5 to exit\n",
            "    1\n",
            "Enter your pin: 123\n",
            "Pin set successfully\n"
          ]
        }
      ],
      "source": [
        "class Atm:\n",
        "  # constructor\n",
        "  def __init__(self):\n",
        "    self.pin = ''\n",
        "    self.balance = 0\n",
        "    self.menu()\n",
        "\n",
        "  def menu(self):\n",
        "    user_input = input('''\n",
        "                        Hello! How would you like to proceed:\n",
        "                        1. Enter 1 to create your pin\n",
        "                        2. Enter 2 to deposit\n",
        "                        3. Enter 3 to withdraw\n",
        "                        4. Enter 4 to check balance\n",
        "                        5. Enter 5 to exit\n",
        "    ''')\n",
        "    if user_input == '1':\n",
        "      self.create_pin()\n",
        "    elif user_input == '2':\n",
        "      self.deposit()\n",
        "    elif user_input == '3':\n",
        "      self.withdraw()\n",
        "    elif user_input == '4':\n",
        "      self.chk_balance()\n",
        "    else:\n",
        "      print('bye')\n",
        "\n",
        "  def create_pin(self):\n",
        "    self.pin = input('Enter your pin: ')\n",
        "    print(\"Pin set successfully\")\n",
        "\n",
        "  def deposit(self):\n",
        "    temp = input(\"Enter yout pin: \")\n",
        "    if temp == self.pin:\n",
        "      amount = int(input(\"Enter the amount: \"))\n",
        "      self.balance = self.balance + amount\n",
        "      print(\"Deposit successful\")\n",
        "    else:\n",
        "      print(\"Invalid pin\")\n",
        "\n",
        "  def withdraw(self):\n",
        "      temp = input(\"Enter yout pin: \")\n",
        "      if temp == self.pin:\n",
        "        amount =int(input(\"Enter the amount: \"))\n",
        "        if amount<self.balance:\n",
        "          self.balance = self.balance - amount\n",
        "          print('Operation successful')\n",
        "        else:\n",
        "          print(\"insufficient amount\")\n",
        "      else:\n",
        "        print('Invalid pin')\n",
        "  def chk_balance(self):\n",
        "    temp = input(\"Enter yout pin: \")\n",
        "    if temp == self.pin:\n",
        "      print(self.balance)\n",
        "    else:\n",
        "      print(\"Invalid pin\")\n",
        "\n",
        "\n",
        "\n",
        "\n",
        "\n",
        "\n",
        "nayeem = Atm()\n"
      ]
    },
    {
      "cell_type": "code",
      "source": [
        "nayeem.deposit()"
      ],
      "metadata": {
        "colab": {
          "base_uri": "https://localhost:8080/"
        },
        "id": "KeUTNoxtVOJB",
        "outputId": "7edb5436-ef70-47b7-899b-184f73fd7ef8"
      },
      "execution_count": null,
      "outputs": [
        {
          "output_type": "stream",
          "name": "stdout",
          "text": [
            "Enter yout pin: 123\n",
            "Enter the amount: 5000\n",
            "Deposit successful\n"
          ]
        }
      ]
    },
    {
      "cell_type": "code",
      "source": [
        "nayeem.chk_balance()"
      ],
      "metadata": {
        "colab": {
          "base_uri": "https://localhost:8080/"
        },
        "id": "y17bdmq6Zpwk",
        "outputId": "be6920dc-19c8-475b-eba6-ace583cdfc49"
      },
      "execution_count": null,
      "outputs": [
        {
          "output_type": "stream",
          "name": "stdout",
          "text": [
            "Enter yout pin: 123\n",
            "0\n"
          ]
        }
      ]
    },
    {
      "cell_type": "code",
      "source": [],
      "metadata": {
        "id": "GmsccAQRad_M"
      },
      "execution_count": null,
      "outputs": []
    }
  ]
}