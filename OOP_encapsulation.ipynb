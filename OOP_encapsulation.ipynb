{
  "nbformat": 4,
  "nbformat_minor": 0,
  "metadata": {
    "colab": {
      "provenance": [],
      "toc_visible": true,
      "authorship_tag": "ABX9TyNRqnSwxPl9T1no45q4o6Cq",
      "include_colab_link": true
    },
    "kernelspec": {
      "name": "python3",
      "display_name": "Python 3"
    },
    "language_info": {
      "name": "python"
    }
  },
  "cells": [
    {
      "cell_type": "markdown",
      "metadata": {
        "id": "view-in-github",
        "colab_type": "text"
      },
      "source": [
        "<a href=\"https://colab.research.google.com/github/md-darun-nayeem/Python_notes/blob/main/OOP_encapsulation.ipynb\" target=\"_parent\"><img src=\"https://colab.research.google.com/assets/colab-badge.svg\" alt=\"Open In Colab\"/></a>"
      ]
    },
    {
      "cell_type": "code",
      "execution_count": null,
      "metadata": {
        "id": "6JZbe4GEcoHx"
      },
      "outputs": [],
      "source": [
        "# using __ in front of any instances makes that private\n",
        "# In python we can't make instances fully private, we can just hide it\n",
        "\n",
        "class Atm:\n",
        "  # constructor\n",
        "  def __init__(self):\n",
        "    self.__pin = ''\n",
        "    self.__balance = 0\n",
        "    self.menu()\n",
        "\n",
        "  def get_pin(self):\n",
        "      return self.__pin\n",
        "\n",
        "  def set_pin(self, new_pin):\n",
        "      if type(new_pin == str):\n",
        "        self.__pin = new_pin\n",
        "        print(\"Pin changed\")\n",
        "      else:\n",
        "        print('Not allowed')\n",
        "\n",
        "  def menu(self):\n",
        "    user_input = input('''\n",
        "                        Hello! How would you like to proceed:\n",
        "                        1. Enter 1 to create your pin\n",
        "                        2. Enter 2 to deposit\n",
        "                        3. Enter 3 to withdraw\n",
        "                        4. Enter 4 to check balance\n",
        "                        5. Enter 5 to exit\n",
        "    ''')\n",
        "    if user_input == '1':\n",
        "      self.create_pin()\n",
        "    elif user_input == '2':\n",
        "      self.deposit()\n",
        "    elif user_input == '3':\n",
        "      self.withdraw()\n",
        "    elif user_input == '4':\n",
        "      self.chk_balance()\n",
        "    else:\n",
        "      print('bye')\n",
        "\n",
        "  def create_pin(self):\n",
        "    self.__pin = input('Enter your pin: ')\n",
        "    print(\"Pin set successfully\")\n",
        "\n",
        "  def deposit(self):\n",
        "    temp = input(\"Enter yout pin: \")\n",
        "    if temp == self.__pin:\n",
        "      amount = int(input(\"Enter the amount: \"))\n",
        "      self.__balance = self.__balance + amount\n",
        "      print(\"Deposit successful\")\n",
        "    else:\n",
        "      print(\"Invalid pin\")\n",
        "\n",
        "  def withdraw(self):\n",
        "      temp = input(\"Enter yout pin: \")\n",
        "      if temp == self.__pin:\n",
        "        amount =int(input(\"Enter the amount: \"))\n",
        "        if amount<self.__balance:\n",
        "          self.__balance = self.__balance - amount\n",
        "          print('Operation successful')\n",
        "        else:\n",
        "          print(\"insufficient amount\")\n",
        "      else:\n",
        "        print('Invalid pin')\n",
        "  def chk_balance(self):\n",
        "    temp = input(\"Enter youtpin: \")\n",
        "    if temp == self.__pin:\n",
        "      print(self.__balance)\n",
        "    else:\n",
        "      print(\"Invalid pin\")\n"
      ]
    },
    {
      "cell_type": "code",
      "source": [
        "nayeem = Atm()\n"
      ],
      "metadata": {
        "colab": {
          "base_uri": "https://localhost:8080/"
        },
        "id": "Xmqqgs2MyXw8",
        "outputId": "ce550a0d-1036-48b4-a48a-daee6506d5c0"
      },
      "execution_count": null,
      "outputs": [
        {
          "output_type": "stream",
          "name": "stdout",
          "text": [
            " \n",
            "                        Hello! How would you like to proceed:\n",
            "                        1. Enter 1 to create your pin\n",
            "                        2. Enter 2 to deposit\n",
            "                        3. Enter 3 to withdraw\n",
            "                        4. Enter 4 to check balance\n",
            "                        5. Enter 5 to exit\n",
            "    1\n",
            "Enter your pin: 123\n",
            "Pin set successfully\n"
          ]
        }
      ]
    },
    {
      "cell_type": "code",
      "source": [
        "nayeem.get_pin()"
      ],
      "metadata": {
        "colab": {
          "base_uri": "https://localhost:8080/",
          "height": 36
        },
        "id": "CitA_E9lyqfp",
        "outputId": "0872717c-e3e3-4385-b4f2-d244898c6510"
      },
      "execution_count": null,
      "outputs": [
        {
          "output_type": "execute_result",
          "data": {
            "text/plain": [
              "'123'"
            ],
            "application/vnd.google.colaboratory.intrinsic+json": {
              "type": "string"
            }
          },
          "metadata": {},
          "execution_count": 16
        }
      ]
    },
    {
      "cell_type": "code",
      "source": [
        "nayeem.set_pin('234')"
      ],
      "metadata": {
        "colab": {
          "base_uri": "https://localhost:8080/"
        },
        "id": "fCuZww2Xyehg",
        "outputId": "ee0fd5d5-5494-4fa1-a0f8-64e39bd5ccb5"
      },
      "execution_count": null,
      "outputs": [
        {
          "output_type": "stream",
          "name": "stdout",
          "text": [
            "Pin changed\n"
          ]
        }
      ]
    },
    {
      "cell_type": "code",
      "source": [
        "nayeem.get_pin()"
      ],
      "metadata": {
        "colab": {
          "base_uri": "https://localhost:8080/",
          "height": 36
        },
        "id": "JpCHjUQGzW8i",
        "outputId": "d563afd8-50ba-4a75-a739-e00e7c4fb615"
      },
      "execution_count": null,
      "outputs": [
        {
          "output_type": "execute_result",
          "data": {
            "text/plain": [
              "'234'"
            ],
            "application/vnd.google.colaboratory.intrinsic+json": {
              "type": "string"
            }
          },
          "metadata": {},
          "execution_count": 18
        }
      ]
    },
    {
      "cell_type": "code",
      "source": [],
      "metadata": {
        "id": "c5ERPdocziJs"
      },
      "execution_count": null,
      "outputs": []
    }
  ]
}