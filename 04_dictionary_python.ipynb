{
  "nbformat": 4,
  "nbformat_minor": 0,
  "metadata": {
    "colab": {
      "provenance": [],
      "toc_visible": true,
      "authorship_tag": "ABX9TyORckPrtm/Gckvhfslsy62h",
      "include_colab_link": true
    },
    "kernelspec": {
      "name": "python3",
      "display_name": "Python 3"
    },
    "language_info": {
      "name": "python"
    }
  },
  "cells": [
    {
      "cell_type": "markdown",
      "metadata": {
        "id": "view-in-github",
        "colab_type": "text"
      },
      "source": [
        "<a href=\"https://colab.research.google.com/github/md-darun-nayeem/Python_notes/blob/main/04_dictionary_python.ipynb\" target=\"_parent\"><img src=\"https://colab.research.google.com/assets/colab-badge.svg\" alt=\"Open In Colab\"/></a>"
      ]
    },
    {
      "cell_type": "markdown",
      "source": [
        "Rules of dictionary:\n",
        "- No indexing\n",
        "- Mutable type\n",
        "- Keys: immutable | values: mutable\n",
        "- keys should be unique\n",
        "\n",
        "mutabel: list/sets/dictionary ( Can edit at that location)\n",
        "\n",
        "immutable: sring/tuples/int/float/complex/boolean( can't edit keeping them at the same memory address)"
      ],
      "metadata": {
        "id": "IydDXe4p0sGS"
      }
    },
    {
      "cell_type": "code",
      "execution_count": null,
      "metadata": {
        "id": "45ZB_uxjy6aN"
      },
      "outputs": [],
      "source": [
        "# Dictionary\n",
        "name={'Names':'naim','sur_name':'darun'}\n"
      ]
    },
    {
      "cell_type": "code",
      "source": [
        "type(name)"
      ],
      "metadata": {
        "colab": {
          "base_uri": "https://localhost:8080/"
        },
        "id": "c2NGSDSK1wbA",
        "outputId": "7f84f237-d81f-4702-d663-a5cc0ce9d360"
      },
      "execution_count": null,
      "outputs": [
        {
          "output_type": "execute_result",
          "data": {
            "text/plain": [
              "dict"
            ]
          },
          "metadata": {},
          "execution_count": 6
        }
      ]
    },
    {
      "cell_type": "code",
      "source": [
        "# 2D dictinory\n",
        "\n",
        "d = {'name':'nayeem', 'age':'24','edu':{'scl':'JZS','college':'MMC','Ver':'cse'}}\n",
        "d"
      ],
      "metadata": {
        "colab": {
          "base_uri": "https://localhost:8080/"
        },
        "id": "H9Sr7fPX2MZp",
        "outputId": "6f0076b3-2710-4cd0-8e45-62789ef0f003"
      },
      "execution_count": null,
      "outputs": [
        {
          "output_type": "execute_result",
          "data": {
            "text/plain": [
              "{'name': 'nayeem',\n",
              " 'age': '24',\n",
              " 'edu': {'scl': 'JZS', 'college': 'MMC', 'Ver': 'cse'}}"
            ]
          },
          "metadata": {},
          "execution_count": 7
        }
      ]
    },
    {
      "cell_type": "code",
      "source": [
        "# Access items\n",
        "d['name']"
      ],
      "metadata": {
        "colab": {
          "base_uri": "https://localhost:8080/",
          "height": 35
        },
        "id": "7vweTJbQ3mDM",
        "outputId": "dbcebd1d-859a-4c39-b03e-409ee4b313d6"
      },
      "execution_count": null,
      "outputs": [
        {
          "output_type": "execute_result",
          "data": {
            "text/plain": [
              "'nayeem'"
            ],
            "application/vnd.google.colaboratory.intrinsic+json": {
              "type": "string"
            }
          },
          "metadata": {},
          "execution_count": 10
        }
      ]
    },
    {
      "cell_type": "code",
      "source": [
        "# Edit dic\n",
        "\n",
        "d['edu']['scl']='zilla'\n",
        "d"
      ],
      "metadata": {
        "colab": {
          "base_uri": "https://localhost:8080/"
        },
        "id": "rSlSddP031ip",
        "outputId": "1b461cbd-c1fc-4ef2-ee5e-6311a09bfe1b"
      },
      "execution_count": null,
      "outputs": [
        {
          "output_type": "execute_result",
          "data": {
            "text/plain": [
              "{'name': 'nayeem',\n",
              " 'age': '24',\n",
              " 'edu': {'scl': 'zilla', 'college': 'MMC', 'Ver': 'cse'}}"
            ]
          },
          "metadata": {},
          "execution_count": 13
        }
      ]
    },
    {
      "cell_type": "code",
      "source": [
        "for i in d:\n",
        "  print(i,d[i])"
      ],
      "metadata": {
        "colab": {
          "base_uri": "https://localhost:8080/"
        },
        "id": "deGF6uT74fNI",
        "outputId": "c53d2e43-4065-4058-ff2d-3a3ec8955d1f"
      },
      "execution_count": null,
      "outputs": [
        {
          "output_type": "stream",
          "name": "stdout",
          "text": [
            "name nayeem\n",
            "age 24\n",
            "edu {'scl': 'zilla', 'college': 'MMC', 'Ver': 'cse'}\n"
          ]
        }
      ]
    },
    {
      "cell_type": "code",
      "source": [],
      "metadata": {
        "id": "TLfffW5l5igH"
      },
      "execution_count": null,
      "outputs": []
    }
  ]
}