{
  "nbformat": 4,
  "nbformat_minor": 0,
  "metadata": {
    "colab": {
      "provenance": [],
      "toc_visible": true,
      "authorship_tag": "ABX9TyMDxqqJvmq26IXN+Aou55Zq",
      "include_colab_link": true
    },
    "kernelspec": {
      "name": "python3",
      "display_name": "Python 3"
    },
    "language_info": {
      "name": "python"
    }
  },
  "cells": [
    {
      "cell_type": "markdown",
      "metadata": {
        "id": "view-in-github",
        "colab_type": "text"
      },
      "source": [
        "<a href=\"https://colab.research.google.com/github/md-darun-nayeem/Python_notes/blob/main/06_functions.ipynb\" target=\"_parent\"><img src=\"https://colab.research.google.com/assets/colab-badge.svg\" alt=\"Open In Colab\"/></a>"
      ]
    },
    {
      "cell_type": "code",
      "execution_count": null,
      "metadata": {
        "id": "vdC_vRago8Dw",
        "colab": {
          "base_uri": "https://localhost:8080/"
        },
        "outputId": "f430687a-666b-4589-b81a-1457a673af2d"
      },
      "outputs": [
        {
          "output_type": "stream",
          "name": "stdout",
          "text": [
            "1 is :  odd\n",
            "2 is :  Even\n",
            "3 is :  odd\n",
            "4 is :  Even\n",
            "5 is :  odd\n",
            "6 is :  Even\n",
            "7 is :  odd\n",
            "8 is :  Even\n",
            "9 is :  odd\n",
            "10 is :  Even\n",
            "11 is :  odd\n",
            "12 is :  Even\n",
            "13 is :  odd\n",
            "14 is :  Even\n"
          ]
        }
      ],
      "source": [
        "def is_even(number):\n",
        "  if number %2== 0:\n",
        "    return 'Even'\n",
        "  else:\n",
        "    return 'odd'\n",
        "\n",
        "for i in range( 1, 15):\n",
        "  print(i,'is : ',is_even(i))"
      ]
    },
    {
      "cell_type": "code",
      "source": [
        "# Documentation of a function\n",
        "\n",
        "print(is_even.__doc__)"
      ],
      "metadata": {
        "colab": {
          "base_uri": "https://localhost:8080/"
        },
        "id": "VYF26--ybPXl",
        "outputId": "15df5d09-9fa3-4e2a-ad34-cf15bd4eee4d"
      },
      "execution_count": null,
      "outputs": [
        {
          "output_type": "stream",
          "name": "stdout",
          "text": [
            "None\n"
          ]
        }
      ]
    },
    {
      "cell_type": "code",
      "source": [
        "print.__doc__"
      ],
      "metadata": {
        "colab": {
          "base_uri": "https://localhost:8080/",
          "height": 87
        },
        "id": "IpWGJCKybyWe",
        "outputId": "087c49b1-c77d-4ac1-9480-c100f60bfe64"
      },
      "execution_count": null,
      "outputs": [
        {
          "output_type": "execute_result",
          "data": {
            "text/plain": [
              "\"print(value, ..., sep=' ', end='\\\\n', file=sys.stdout, flush=False)\\n\\nPrints the values to a stream, or to sys.stdout by default.\\nOptional keyword arguments:\\nfile:  a file-like object (stream); defaults to the current sys.stdout.\\nsep:   string inserted between values, default a space.\\nend:   string appended after the last value, default a newline.\\nflush: whether to forcibly flush the stream.\""
            ],
            "application/vnd.google.colaboratory.intrinsic+json": {
              "type": "string"
            }
          },
          "metadata": {},
          "execution_count": 8
        }
      ]
    },
    {
      "cell_type": "code",
      "source": [
        "type.__doc__"
      ],
      "metadata": {
        "colab": {
          "base_uri": "https://localhost:8080/",
          "height": 35
        },
        "id": "o84yFeB1b7Iq",
        "outputId": "16b1aed4-2b90-48cf-9b48-ef6e2e57bd85"
      },
      "execution_count": null,
      "outputs": [
        {
          "output_type": "execute_result",
          "data": {
            "text/plain": [
              "\"type(object) -> the object's type\\ntype(name, bases, dict, **kwds) -> a new type\""
            ],
            "application/vnd.google.colaboratory.intrinsic+json": {
              "type": "string"
            }
          },
          "metadata": {},
          "execution_count": 9
        }
      ]
    },
    {
      "cell_type": "code",
      "source": [
        "# Profession coding. Protect the code from not to crash.\n",
        "\n",
        "def is_even(number):\n",
        "  if type(number) == int:\n",
        "    if number %2== 0:\n",
        "      return 'Even'\n",
        "    else:\n",
        "      return 'odd'\n",
        "  else:\n",
        "    return 'Not allowed'\n",
        "\n",
        "is_even('Hi')"
      ],
      "metadata": {
        "colab": {
          "base_uri": "https://localhost:8080/",
          "height": 35
        },
        "id": "ALTwCuqkcB1_",
        "outputId": "0cc85aed-af03-4bbe-cd3b-f9004ef344f9"
      },
      "execution_count": null,
      "outputs": [
        {
          "output_type": "execute_result",
          "data": {
            "text/plain": [
              "'Not allowed'"
            ],
            "application/vnd.google.colaboratory.intrinsic+json": {
              "type": "string"
            }
          },
          "metadata": {},
          "execution_count": 11
        }
      ]
    },
    {
      "cell_type": "code",
      "source": [
        "# Website name: python tutor | It gives you pure visuization of your code."
      ],
      "metadata": {
        "id": "iewZFrvKcDdE"
      },
      "execution_count": null,
      "outputs": []
    },
    {
      "cell_type": "code",
      "source": [
        "# How to save code from not to crush\n",
        "\n",
        "def power(a=1, b=1):  # default value is 1.\n",
        "  return a**b\n",
        "\n",
        "power(2,5)"
      ],
      "metadata": {
        "colab": {
          "base_uri": "https://localhost:8080/"
        },
        "id": "bW7YxkbBcD3b",
        "outputId": "33482735-fe2d-4862-8a9c-4bef707cf895"
      },
      "execution_count": null,
      "outputs": [
        {
          "output_type": "execute_result",
          "data": {
            "text/plain": [
              "32"
            ]
          },
          "metadata": {},
          "execution_count": 15
        }
      ]
    },
    {
      "cell_type": "code",
      "source": [
        "power(2)"
      ],
      "metadata": {
        "colab": {
          "base_uri": "https://localhost:8080/"
        },
        "id": "Zgrki38vfvoF",
        "outputId": "c70d53a7-fd0c-4290-f538-be913ca3845b"
      },
      "execution_count": null,
      "outputs": [
        {
          "output_type": "execute_result",
          "data": {
            "text/plain": [
              "2"
            ]
          },
          "metadata": {},
          "execution_count": 13
        }
      ]
    },
    {
      "cell_type": "code",
      "source": [
        "power()"
      ],
      "metadata": {
        "colab": {
          "base_uri": "https://localhost:8080/"
        },
        "id": "lcf-L1ydfxHn",
        "outputId": "84b5cf44-76a5-4ce9-bdd2-b9514fdfdb3a"
      },
      "execution_count": null,
      "outputs": [
        {
          "output_type": "execute_result",
          "data": {
            "text/plain": [
              "1"
            ]
          },
          "metadata": {},
          "execution_count": 14
        }
      ]
    },
    {
      "cell_type": "code",
      "source": [
        "# How to make a powerful function like print where we can pass multiple variable\n",
        "\n",
        "def flexi(*number):\n",
        "  product =1\n",
        "  print(number)\n",
        "  print(type(number))\n",
        "  for i in number:\n",
        "    product = product*i\n",
        "  return product\n",
        "\n",
        "flexi(1,2,3,4,5)"
      ],
      "metadata": {
        "colab": {
          "base_uri": "https://localhost:8080/"
        },
        "id": "HBge963xfyKf",
        "outputId": "4ae8e053-7132-4c01-b46f-e6ddc3fd9d0a"
      },
      "execution_count": null,
      "outputs": [
        {
          "output_type": "stream",
          "name": "stdout",
          "text": [
            "(1, 2, 3, 4, 5)\n",
            "<class 'tuple'>\n"
          ]
        },
        {
          "output_type": "execute_result",
          "data": {
            "text/plain": [
              "120"
            ]
          },
          "metadata": {},
          "execution_count": 18
        }
      ]
    },
    {
      "cell_type": "code",
      "source": [
        "# Inner function\n",
        "\n",
        "def g(x):\n",
        "  def h():\n",
        "    x = 'abc'\n",
        "  x = x+1\n",
        "  print('in g(x): x = ',x)\n",
        "  h()\n",
        "  return x\n",
        "\n",
        "x = 3\n",
        "z = g(x)"
      ],
      "metadata": {
        "colab": {
          "base_uri": "https://localhost:8080/"
        },
        "id": "1S4c1WgTf6cj",
        "outputId": "a34ec0d2-a343-4d1d-ced8-61185407d70f"
      },
      "execution_count": null,
      "outputs": [
        {
          "output_type": "stream",
          "name": "stdout",
          "text": [
            "in g(x): x =  4\n"
          ]
        }
      ]
    },
    {
      "cell_type": "code",
      "source": [],
      "metadata": {
        "id": "LwZd6TOJf6vS"
      },
      "execution_count": null,
      "outputs": []
    }
  ]
}