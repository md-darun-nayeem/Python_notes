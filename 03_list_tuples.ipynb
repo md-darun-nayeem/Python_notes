{
  "nbformat": 4,
  "nbformat_minor": 0,
  "metadata": {
    "colab": {
      "provenance": [],
      "authorship_tag": "ABX9TyMNISJkn/HMVqi0D92Y6IzG",
      "include_colab_link": true
    },
    "kernelspec": {
      "name": "python3",
      "display_name": "Python 3"
    },
    "language_info": {
      "name": "python"
    }
  },
  "cells": [
    {
      "cell_type": "markdown",
      "metadata": {
        "id": "view-in-github",
        "colab_type": "text"
      },
      "source": [
        "<a href=\"https://colab.research.google.com/github/md-darun-nayeem/Python_notes/blob/main/03_list_tuples.ipynb\" target=\"_parent\"><img src=\"https://colab.research.google.com/assets/colab-badge.svg\" alt=\"Open In Colab\"/></a>"
      ]
    },
    {
      "cell_type": "markdown",
      "source": [
        "List is a data type where we can store different types of elements.\n",
        "\n",
        "List vs Array:\n",
        "- array is homogenous.We can't store different data type in same array but we can store different data type in same list.\n",
        "- array is a continuous memory location where list is not.\n",
        "- array is faster than list.\n",
        "- list are more programmer frendly"
      ],
      "metadata": {
        "id": "SvJoNpkt9vnZ"
      }
    },
    {
      "cell_type": "code",
      "execution_count": null,
      "metadata": {
        "colab": {
          "base_uri": "https://localhost:8080/"
        },
        "id": "a4WRHnxh8K8x",
        "outputId": "211cca01-137a-43c3-e5c9-c6b8c4e85e5c"
      },
      "outputs": [
        {
          "output_type": "stream",
          "name": "stdout",
          "text": [
            "[1, 2, 3, [2, 3, [7, 9]]]\n"
          ]
        }
      ],
      "source": [
        "# 3D list\n",
        "L = [1,2,3,[2,3,[7,9]]]\n",
        "type(L)\n",
        "print(L)"
      ]
    },
    {
      "cell_type": "code",
      "source": [
        "L1 = list('Nayeem')\n",
        "L1"
      ],
      "metadata": {
        "colab": {
          "base_uri": "https://localhost:8080/"
        },
        "id": "XYOe7tlH8pHq",
        "outputId": "3bfa787d-13ee-424e-8212-3dd732faa0ad"
      },
      "execution_count": null,
      "outputs": [
        {
          "output_type": "execute_result",
          "data": {
            "text/plain": [
              "['N', 'a', 'y', 'e', 'e', 'm']"
            ]
          },
          "metadata": {},
          "execution_count": 3
        }
      ]
    },
    {
      "cell_type": "code",
      "source": [
        "# Finding elements in a 2D list\n",
        "\n",
        "l2 = [2,5,2,[5,7,3]]\n",
        "l2[3][0]"
      ],
      "metadata": {
        "colab": {
          "base_uri": "https://localhost:8080/"
        },
        "id": "uCbKbo5S8pKs",
        "outputId": "b65af64b-9ab7-4e0b-cd46-950a4f20c1ba"
      },
      "execution_count": null,
      "outputs": [
        {
          "output_type": "execute_result",
          "data": {
            "text/plain": [
              "5"
            ]
          },
          "metadata": {},
          "execution_count": 4
        }
      ]
    },
    {
      "cell_type": "code",
      "source": [
        "name = ['naim','rahim']\n",
        "name.append('karim')    # append can add just one element.\n",
        "name"
      ],
      "metadata": {
        "colab": {
          "base_uri": "https://localhost:8080/"
        },
        "id": "tnfk6sLK8pNk",
        "outputId": "08a33546-795d-43cd-cb75-ae6fa4556fe6"
      },
      "execution_count": null,
      "outputs": [
        {
          "output_type": "execute_result",
          "data": {
            "text/plain": [
              "['naim', 'rahim', 'karim']"
            ]
          },
          "metadata": {},
          "execution_count": 11
        }
      ]
    },
    {
      "cell_type": "code",
      "source": [
        "names = ['na','ka','ra']\n",
        "names.extend(['fish','hen'])  # extend can add multiple elements.\n",
        "names"
      ],
      "metadata": {
        "colab": {
          "base_uri": "https://localhost:8080/"
        },
        "id": "KzOvgzwd8pQR",
        "outputId": "bfcb1480-722f-4287-eac8-b571540e9ed0"
      },
      "execution_count": null,
      "outputs": [
        {
          "output_type": "execute_result",
          "data": {
            "text/plain": [
              "['na', 'ka', 'ra', 'fish', 'hen']"
            ]
          },
          "metadata": {},
          "execution_count": 8
        }
      ]
    },
    {
      "cell_type": "markdown",
      "source": [
        "We can delete items in four method in a list.\n",
        "- del\n",
        "- remove\n",
        "- pop\n",
        "- clear"
      ],
      "metadata": {
        "id": "VxvcXZ8NDswK"
      }
    },
    {
      "cell_type": "code",
      "source": [
        "L4 = [2,4,12,56]\n",
        "for i in L4:\n",
        "  print(i)"
      ],
      "metadata": {
        "colab": {
          "base_uri": "https://localhost:8080/"
        },
        "id": "jRa6UhIw8pS2",
        "outputId": "71835bc2-f74a-4a5a-d323-387a103d0e57"
      },
      "execution_count": null,
      "outputs": [
        {
          "output_type": "stream",
          "name": "stdout",
          "text": [
            "2\n",
            "4\n",
            "12\n",
            "56\n"
          ]
        }
      ]
    },
    {
      "cell_type": "code",
      "source": [
        "# How to create single item tuple\n",
        "\n",
        "t = ('naim',)\n",
        "t\n",
        "# type(t)"
      ],
      "metadata": {
        "colab": {
          "base_uri": "https://localhost:8080/"
        },
        "id": "7IPKarbiA05F",
        "outputId": "d841ae0b-6805-403e-f8a0-1f04ba93bf6e"
      },
      "execution_count": null,
      "outputs": [
        {
          "output_type": "execute_result",
          "data": {
            "text/plain": [
              "('naim',)"
            ]
          },
          "metadata": {},
          "execution_count": 15
        }
      ]
    },
    {
      "cell_type": "code",
      "source": [
        "t2 = tuple('nayeem')\n",
        "t2"
      ],
      "metadata": {
        "colab": {
          "base_uri": "https://localhost:8080/"
        },
        "id": "_8DwMnCIA08L",
        "outputId": "578c2cfe-73ae-4b18-cb81-ff204bd40239"
      },
      "execution_count": null,
      "outputs": [
        {
          "output_type": "execute_result",
          "data": {
            "text/plain": [
              "('n', 'a', 'y', 'e', 'e', 'm')"
            ]
          },
          "metadata": {},
          "execution_count": 16
        }
      ]
    },
    {
      "cell_type": "markdown",
      "source": [
        "Sets:\n",
        "- do not allow duplicate\n",
        "- have no indexing/slicing\n",
        "- don't allow mutable data type\n",
        "- set itself is a mutable data type\n",
        "- we can't edit sets\n",
        "- we can add item"
      ],
      "metadata": {
        "id": "_WXixdHOI8ID"
      }
    },
    {
      "cell_type": "code",
      "source": [
        "s = {'naim',2,4,5}\n",
        "s"
      ],
      "metadata": {
        "colab": {
          "base_uri": "https://localhost:8080/"
        },
        "id": "zmoHlXKcA0_J",
        "outputId": "231c8f3b-036f-45fd-87a0-c8acc73e4466"
      },
      "execution_count": null,
      "outputs": [
        {
          "output_type": "execute_result",
          "data": {
            "text/plain": [
              "{2, 4, 5, 'naim'}"
            ]
          },
          "metadata": {},
          "execution_count": 17
        }
      ]
    },
    {
      "cell_type": "code",
      "source": [
        "# memory address\n",
        "s2 = {3,5}\n",
        "id(s2)"
      ],
      "metadata": {
        "colab": {
          "base_uri": "https://localhost:8080/"
        },
        "id": "5X59YyDHJVB8",
        "outputId": "d5010db5-fe5f-4e06-8a0b-94344628a2e2"
      },
      "execution_count": null,
      "outputs": [
        {
          "output_type": "execute_result",
          "data": {
            "text/plain": [
              "132656897291680"
            ]
          },
          "metadata": {},
          "execution_count": 18
        }
      ]
    },
    {
      "cell_type": "code",
      "source": [],
      "metadata": {
        "id": "nCy7ZUi1JVPi"
      },
      "execution_count": null,
      "outputs": []
    },
    {
      "cell_type": "code",
      "source": [],
      "metadata": {
        "id": "oSeesNJ_JVci"
      },
      "execution_count": null,
      "outputs": []
    },
    {
      "cell_type": "code",
      "source": [],
      "metadata": {
        "id": "FXro8OERA1CD"
      },
      "execution_count": null,
      "outputs": []
    }
  ]
}