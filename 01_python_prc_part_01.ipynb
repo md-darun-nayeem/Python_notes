{
  "nbformat": 4,
  "nbformat_minor": 0,
  "metadata": {
    "colab": {
      "provenance": [],
      "authorship_tag": "ABX9TyPLBQkY3d07JWpE2/fuSIcu",
      "include_colab_link": true
    },
    "kernelspec": {
      "name": "python3",
      "display_name": "Python 3"
    },
    "language_info": {
      "name": "python"
    }
  },
  "cells": [
    {
      "cell_type": "markdown",
      "metadata": {
        "id": "view-in-github",
        "colab_type": "text"
      },
      "source": [
        "<a href=\"https://colab.research.google.com/github/md-darun-nayeem/Python_notes/blob/main/01_python_prc_part_01.ipynb\" target=\"_parent\"><img src=\"https://colab.research.google.com/assets/colab-badge.svg\" alt=\"Open In Colab\"/></a>"
      ]
    },
    {
      "cell_type": "code",
      "execution_count": null,
      "metadata": {
        "id": "ZNuqCaqVaoLO"
      },
      "outputs": [],
      "source": [
        "# use shift + tab into the brackert to get documentation of any function.\n",
        "print('shift + tab')"
      ]
    },
    {
      "cell_type": "code",
      "source": [
        "print('Nayeem','Darun','Mirpur',sep='') # using sep parameter it helps to remove space or print anything else\n",
        "print('Darun','Nayeem','Akash',sep='/')\n",
        "print('Darun','Nayeem','Akash') # Default space will be printed"
      ],
      "metadata": {
        "id": "w_qtJeP9bzg1",
        "colab": {
          "base_uri": "https://localhost:8080/"
        },
        "outputId": "68e4b23e-9e9d-4c48-8612-eb27bd88c50f"
      },
      "execution_count": null,
      "outputs": [
        {
          "output_type": "stream",
          "name": "stdout",
          "text": [
            "NayeemDarunMirpur\n",
            "Darun/Nayeem/Akash\n",
            "Darun Nayeem Akash\n"
          ]
        }
      ]
    },
    {
      "cell_type": "code",
      "source": [
        "# To remove next line\n",
        "print('ok',end=' ')\n",
        "print('sir')"
      ],
      "metadata": {
        "id": "WodQJbTTb0Mk",
        "colab": {
          "base_uri": "https://localhost:8080/"
        },
        "outputId": "980bd630-648b-4169-a3da-9f4bf6eb5255"
      },
      "execution_count": null,
      "outputs": [
        {
          "output_type": "stream",
          "name": "stdout",
          "text": [
            "ok sir\n"
          ]
        }
      ]
    },
    {
      "cell_type": "markdown",
      "source": [
        "Python supports 3 data types\n",
        "1. Basic type(integer,float,complex,boolean and string)\n",
        "2. Container type(List, tuple, set, dictionary)\n",
        "3. User-defined types(Class)"
      ],
      "metadata": {
        "id": "DfTCRpn_fNHn"
      }
    },
    {
      "cell_type": "code",
      "source": [
        "print(1e309)  # can handle till 10^308"
      ],
      "metadata": {
        "colab": {
          "base_uri": "https://localhost:8080/"
        },
        "id": "4enGbUNbexHC",
        "outputId": "4c76c92b-5041-4f2c-e3da-bb76af069dcf"
      },
      "execution_count": null,
      "outputs": [
        {
          "output_type": "stream",
          "name": "stdout",
          "text": [
            "inf\n"
          ]
        }
      ]
    },
    {
      "cell_type": "code",
      "source": [
        "print(1e308)"
      ],
      "metadata": {
        "colab": {
          "base_uri": "https://localhost:8080/"
        },
        "id": "ZS0l6K4vexJe",
        "outputId": "c292d91f-d606-467f-ebef-f0c705285234"
      },
      "execution_count": null,
      "outputs": [
        {
          "output_type": "stream",
          "name": "stdout",
          "text": [
            "1e+308\n"
          ]
        }
      ]
    },
    {
      "cell_type": "code",
      "source": [
        "# Complex number\n",
        "print(4+5j)"
      ],
      "metadata": {
        "colab": {
          "base_uri": "https://localhost:8080/"
        },
        "id": "-zTSnc9wexNh",
        "outputId": "cd25ddc0-c070-426a-c80d-283b2cc389b5"
      },
      "execution_count": null,
      "outputs": [
        {
          "output_type": "stream",
          "name": "stdout",
          "text": [
            "(4+5j)\n"
          ]
        }
      ]
    },
    {
      "cell_type": "markdown",
      "source": [
        "Dynamic binding\n",
        "- When we use same variable to store multiple type data\n",
        "ex-\n",
        "name = 'Nayeem'\n",
        "name = True"
      ],
      "metadata": {
        "id": "6tbISTeibUX8"
      }
    },
    {
      "cell_type": "code",
      "source": [
        "# Python keyword list\n",
        "import keyword\n",
        "print(keyword.kwlist)"
      ],
      "metadata": {
        "colab": {
          "base_uri": "https://localhost:8080/"
        },
        "id": "zzeNrCKmaFSk",
        "outputId": "9a74bf58-2709-4be4-9039-2234446234a8"
      },
      "execution_count": null,
      "outputs": [
        {
          "output_type": "stream",
          "name": "stdout",
          "text": [
            "['False', 'None', 'True', 'and', 'as', 'assert', 'async', 'await', 'break', 'class', 'continue', 'def', 'del', 'elif', 'else', 'except', 'finally', 'for', 'from', 'global', 'if', 'import', 'in', 'is', 'lambda', 'nonlocal', 'not', 'or', 'pass', 'raise', 'return', 'try', 'while', 'with', 'yield']\n"
          ]
        }
      ]
    },
    {
      "cell_type": "markdown",
      "source": [
        "An identifier is a name used to identify a variable, function, class, module or other object."
      ],
      "metadata": {
        "id": "XYuWvf-wemqc"
      }
    },
    {
      "cell_type": "code",
      "source": [
        "input(\"Tor nam ki bol : \")"
      ],
      "metadata": {
        "colab": {
          "base_uri": "https://localhost:8080/",
          "height": 53
        },
        "id": "bGvF3iwXaFYh",
        "outputId": "799d6e7e-42a6-4004-ecf1-bc7f27064c37"
      },
      "execution_count": null,
      "outputs": [
        {
          "name": "stdout",
          "output_type": "stream",
          "text": [
            "Tor nam ki bol : Nayeem\n"
          ]
        },
        {
          "output_type": "execute_result",
          "data": {
            "text/plain": [
              "'Nayeem'"
            ],
            "application/vnd.google.colaboratory.intrinsic+json": {
              "type": "string"
            }
          },
          "metadata": {},
          "execution_count": 2
        }
      ]
    },
    {
      "cell_type": "code",
      "source": [
        "num1 = float(input(\"Enter first number : \"))\n",
        "num2 = float(input(\"Enter second number : \"))\n",
        "\n",
        "print(num1 + num2)"
      ],
      "metadata": {
        "id": "A5WKFCZlb0cz",
        "colab": {
          "base_uri": "https://localhost:8080/"
        },
        "outputId": "8be55baa-abcd-4060-d217-0d64aaf3d59b"
      },
      "execution_count": null,
      "outputs": [
        {
          "output_type": "stream",
          "name": "stdout",
          "text": [
            "Enter first number : 2\n",
            "Enter second number : 5\n",
            "7.0\n"
          ]
        }
      ]
    },
    {
      "cell_type": "code",
      "source": [
        "# To find out the data type\n",
        "type(1)\n",
        "type(5+2j)\n",
        "type([1,2,5])"
      ],
      "metadata": {
        "id": "9kVdaYE2bzlG",
        "colab": {
          "base_uri": "https://localhost:8080/"
        },
        "outputId": "03dfe4ba-ccc3-4a8b-ce3a-6a975fa09925"
      },
      "execution_count": null,
      "outputs": [
        {
          "output_type": "execute_result",
          "data": {
            "text/plain": [
              "list"
            ]
          },
          "metadata": {},
          "execution_count": 8
        }
      ]
    },
    {
      "cell_type": "code",
      "source": [
        "name = [1,131,1]\n",
        "type(name)"
      ],
      "metadata": {
        "colab": {
          "base_uri": "https://localhost:8080/"
        },
        "id": "OcxfGJ7ihQlw",
        "outputId": "c4acfb36-a710-4b1f-e536-1b28a6e4897f"
      },
      "execution_count": null,
      "outputs": [
        {
          "output_type": "execute_result",
          "data": {
            "text/plain": [
              "list"
            ]
          },
          "metadata": {},
          "execution_count": 9
        }
      ]
    },
    {
      "cell_type": "markdown",
      "source": [
        "Type conversion\n",
        "- implicit (Automatically done )\n",
        "- explicit (Manual)"
      ],
      "metadata": {
        "id": "5zvOqWEwigSl"
      }
    },
    {
      "cell_type": "code",
      "source": [
        "# implicit\n",
        "num = 2.5 + (4 + 4j)\n",
        "print(num)"
      ],
      "metadata": {
        "colab": {
          "base_uri": "https://localhost:8080/"
        },
        "id": "vHNtJiMEheau",
        "outputId": "4684a42b-e62d-4871-837f-d77b7b5649f2"
      },
      "execution_count": null,
      "outputs": [
        {
          "output_type": "stream",
          "name": "stdout",
          "text": [
            "(6.5+4j)\n"
          ]
        }
      ]
    },
    {
      "cell_type": "code",
      "source": [
        "# explicit\n",
        "n1 = int(4.5)\n",
        "print(n1)\n",
        "\n",
        "n2 = complex(4.5)\n",
        "print(n2)\n",
        "\n",
        "n3 = list('Hello')\n",
        "print(n3)"
      ],
      "metadata": {
        "colab": {
          "base_uri": "https://localhost:8080/"
        },
        "id": "12ncMC3lhedY",
        "outputId": "fe94759d-ce48-4f0f-dff5-2aa6b75ec2f7"
      },
      "execution_count": null,
      "outputs": [
        {
          "output_type": "stream",
          "name": "stdout",
          "text": [
            "4\n",
            "(4.5+0j)\n",
            "['H', 'e', 'l', 'l', 'o']\n"
          ]
        }
      ]
    },
    {
      "cell_type": "markdown",
      "source": [
        "Literals : Litrel is a raw data given in a variable.\n",
        "- Numeric literals\n",
        "- String literals\n",
        "- Boolean literals\n",
        "- Special literals"
      ],
      "metadata": {
        "id": "-vyQ6Ox_veyf"
      }
    },
    {
      "cell_type": "code",
      "source": [
        "# Numeric literals\n",
        "a = 0b1010 # Binary literals\n",
        "b = 100 # Decimal literals\n",
        "c = 0o310 # Octal literals\n",
        "d = 0x12c # Hexadecimal literals\n",
        "\n",
        "# Float literals\n",
        "float_1 = 10.5\n",
        "float_2 = 1.5e4\n",
        "float_3 = 1.5e-5\n",
        "\n",
        "# Complex literal\n",
        "x = 3.52j\n",
        "\n",
        "print(a,b,c,d)\n",
        "print(float_1,float_2,float_3)\n",
        "print(x,x.imag, x.real)\n",
        "\n"
      ],
      "metadata": {
        "colab": {
          "base_uri": "https://localhost:8080/"
        },
        "id": "ndeNq07Dhejk",
        "outputId": "761dc7f8-b5f2-4836-9576-d02e7c294656"
      },
      "execution_count": null,
      "outputs": [
        {
          "output_type": "stream",
          "name": "stdout",
          "text": [
            "10 100 200 300\n",
            "10.5 15000.0 1.5e-05\n",
            "3.52j 3.52 0.0\n"
          ]
        }
      ]
    },
    {
      "cell_type": "code",
      "source": [
        "# String literals\n",
        "\n",
        "string = '''It is the simplest method to let a long string split into different\n",
        "lines. You will need to enclose it with a pair of Triple quotes,\n",
        "one at the start and ''' # Multiline string\n",
        "\n",
        "print(string)\n",
        "\n",
        "unicode = u'\\U0001f600'\n",
        "raw_string = r'raw \\n string' # To use html or other character\n",
        "print(unicode,raw_string)"
      ],
      "metadata": {
        "colab": {
          "base_uri": "https://localhost:8080/"
        },
        "id": "-T3-dBuyhQwv",
        "outputId": "c3733ae7-50e3-48ff-c5c5-a65b78d5380a"
      },
      "execution_count": null,
      "outputs": [
        {
          "output_type": "stream",
          "name": "stdout",
          "text": [
            "It is the simplest method to let a long string split into different \n",
            "lines. You will need to enclose it with a pair of Triple quotes, \n",
            "one at the start and \n",
            "😀 raw \\n string\n"
          ]
        }
      ]
    },
    {
      "cell_type": "code",
      "source": [
        "# Boolean literal\n",
        "\n",
        "a = True + 4 # 1 + 4 = 5\n",
        "b = False + 5\n",
        "print (a,b)"
      ],
      "metadata": {
        "colab": {
          "base_uri": "https://localhost:8080/"
        },
        "id": "GnUcGF6iyEG0",
        "outputId": "b111c2c5-27ae-4f84-e30f-2093ef17ec4b"
      },
      "execution_count": null,
      "outputs": [
        {
          "output_type": "stream",
          "name": "stdout",
          "text": [
            "5 5\n"
          ]
        }
      ]
    },
    {
      "cell_type": "code",
      "source": [
        "# Special literal\n",
        "# None is used to keep a variable but not to use for that time\n",
        "\n",
        "a = None # Abscense of anything\n",
        "print(a)"
      ],
      "metadata": {
        "colab": {
          "base_uri": "https://localhost:8080/"
        },
        "id": "yvr4sVC-yEJl",
        "outputId": "fb9dbe44-6b2d-4dec-bb55-75b8a7208a03"
      },
      "execution_count": null,
      "outputs": [
        {
          "output_type": "stream",
          "name": "stdout",
          "text": [
            "None\n"
          ]
        }
      ]
    },
    {
      "cell_type": "code",
      "source": [],
      "metadata": {
        "id": "L9sIn0lMyEPE"
      },
      "execution_count": null,
      "outputs": []
    }
  ]
}